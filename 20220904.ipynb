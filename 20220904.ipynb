{
 "cells": [
  {
   "cell_type": "markdown",
   "id": "eb870003-eabd-4261-832a-36af5fd2b89c",
   "metadata": {},
   "source": [
    "### LeetCode 225. Implement Stack using Queues"
   ]
  },
  {
   "cell_type": "code",
   "execution_count": 3,
   "id": "b5b28afe-9a20-4a29-8937-3363eed4f9ed",
   "metadata": {},
   "outputs": [],
   "source": [
    "from collections import deque\n",
    "\n",
    "class MyStack:\n",
    "\n",
    "    def __init__(self):\n",
    "        self.q = deque()\n",
    "\n",
    "    def push(self, x: int) -> None:\n",
    "        self.q.append(x)\n",
    "        for _ in range(len(self.q) - 1):\n",
    "            self.q.append(self.q.popleft())\n",
    "\n",
    "    def pop(self) -> int:\n",
    "        return self.q.popleft()\n",
    "\n",
    "    def top(self) -> int:\n",
    "        return self.q[0]\n",
    "\n",
    "    def empty(self) -> bool:\n",
    "        return not self.q"
   ]
  },
  {
   "cell_type": "markdown",
   "id": "6688fdfd-702b-41ca-82cd-f7ef965ccbd4",
   "metadata": {},
   "source": [
    "### LeetCode 232. Implement Queue using Stacks"
   ]
  },
  {
   "cell_type": "code",
   "execution_count": 17,
   "id": "e88d2fff-f253-46e6-9f44-ae2fcd2d7527",
   "metadata": {},
   "outputs": [],
   "source": [
    "class MyQueue:\n",
    "\n",
    "    def __init__(self):\n",
    "        self.in_stack = []\n",
    "        self.out_stack = []\n",
    "\n",
    "    def push(self, x: int) -> None:\n",
    "        self.in_stack.append(x)\n",
    "\n",
    "    def pop(self) -> int:\n",
    "        self._transfer()\n",
    "        return self.out_stack.pop()\n",
    "\n",
    "    def peek(self) -> int:\n",
    "        self._transfer()\n",
    "        return self.out_stack[-1]\n",
    "\n",
    "    def empty(self) -> bool:\n",
    "        return not self.in_stack and not self.out_stack\n",
    "\n",
    "    def _transfer(self):\n",
    "        if not self.out_stack:\n",
    "            while self.in_stack:\n",
    "                self.out_stack.append(self.in_stack.pop())"
   ]
  },
  {
   "cell_type": "markdown",
   "id": "5146a53b-5e2e-48dd-bdea-4a63c4205a30",
   "metadata": {},
   "source": [
    "### 교재 큐 연습문제"
   ]
  },
  {
   "cell_type": "markdown",
   "id": "6076871d-9800-40f5-88ef-8695a51cfbcd",
   "metadata": {},
   "source": [
    "#### 1번"
   ]
  },
  {
   "cell_type": "code",
   "execution_count": 16,
   "id": "61c4fb37-39dd-4c8d-8d62-6d30a29b7139",
   "metadata": {},
   "outputs": [],
   "source": [
    "class ListQueue:\n",
    "    def __init__(self):\n",
    "        self.__queue = []\n",
    "\n",
    "    def enqueue(self, x):\n",
    "        self.__queue.insert(0, x) # 앞에 넣음 (tail)\n",
    "\n",
    "    def dequeue(self):\n",
    "        return self.__queue.pop() # 뒤에서 꺼냄 (front)\n",
    "\n",
    "    def front(self):\n",
    "        return self.__queue[-1] # 가장 뒤 -> front\n",
    "\n",
    "    def isEmpty(self) -> bool:\n",
    "        return len(self.__queue) == 0\n",
    "\n",
    "    def dequeueAll(self):\n",
    "        self.__queue.clear()"
   ]
  },
  {
   "cell_type": "markdown",
   "id": "6f41243a-5dee-4705-9bb5-195715d9e84f",
   "metadata": {},
   "source": [
    "#### 2번"
   ]
  },
  {
   "cell_type": "code",
   "execution_count": 14,
   "id": "570cf04b-5a25-4cb7-b0c7-35998333ead3",
   "metadata": {},
   "outputs": [],
   "source": [
    "def isWdollarW(s: str) -> bool:\n",
    "    if '$' not in s:\n",
    "        return False\n",
    "\n",
    "    left, right = s.split('$', 1)\n",
    "\n",
    "    q = deque()\n",
    "    for ch in left:\n",
    "        q.append(ch)\n",
    "\n",
    "    for ch in right:\n",
    "        if not q or q.popleft() != ch:\n",
    "            return False\n",
    "\n",
    "    return len(q) == 0  # 모든 문자가 정확히 비교됐는지 확인"
   ]
  },
  {
   "cell_type": "code",
   "execution_count": 15,
   "id": "27b96d4d-8bb3-40ee-912a-900c42dbc2cc",
   "metadata": {},
   "outputs": [
    {
     "name": "stdout",
     "output_type": "stream",
     "text": [
      "True\n"
     ]
    }
   ],
   "source": [
    "print(isWdollarW(\"abc$abc\")) "
   ]
  },
  {
   "cell_type": "markdown",
   "id": "984ee666-da02-4d95-ad4e-476c9e6dc3a5",
   "metadata": {},
   "source": [
    "#### 3번"
   ]
  },
  {
   "cell_type": "code",
   "execution_count": 19,
   "id": "9ff4935d-e299-4330-aff5-b29481c32e42",
   "metadata": {},
   "outputs": [],
   "source": [
    "class LinkedQueue:\n",
    "    def __init__(self):\n",
    "        self.__queue = CircularLinkedList()\n",
    "\n",
    "    def enqueue(self, x):\n",
    "        self.__queue.append(x)\n",
    "\n",
    "    def dequeue(self):\n",
    "        return self.__queue.pop(0)\n",
    "\n",
    "    def front(self):\n",
    "        return self.__queue.get(0)\n",
    "\n",
    "    def isEmpty(self):\n",
    "        return self.__queue.isEmpty()\n",
    "\n",
    "    def dequeueAll(self):\n",
    "        self.__queue.clear()\n",
    "\n",
    "    def printQueue(self):\n",
    "        for i in range(self.__queue.size()):\n",
    "            print(self.__queue.get(i), end=' ')\n",
    "        print()\n",
    "\n",
    "    def size(self):\n",
    "        return self.__queue.size()\n",
    "\n",
    "    def get(self, i):\n",
    "        return self.__queue.get(i)\n",
    "\n",
    "def copyLinkedQueue(a: LinkedQueue) -> LinkedQueue:\n",
    "    b = LinkedQueue()\n",
    "    for i in range(a.size()):\n",
    "        b.enqueue(a.get(i))\n",
    "    return b"
   ]
  },
  {
   "cell_type": "markdown",
   "id": "53027e3f-7d00-44da-920b-f21455fc20b4",
   "metadata": {},
   "source": [
    "#### 4번"
   ]
  },
  {
   "cell_type": "code",
   "execution_count": 20,
   "id": "50881465-8f27-4494-8329-7216d4c1847f",
   "metadata": {},
   "outputs": [],
   "source": [
    "class StackUsingTwoQueues:\n",
    "    def __init__(self):\n",
    "        self.q1 = deque()\n",
    "        self.q2 = deque()\n",
    "\n",
    "    def push(self, x):\n",
    "        self.q1.append(x)  # O(1)\n",
    "\n",
    "    def pop(self):\n",
    "        # q1의 마지막 하나 빼고 모두 q2로 옮기기\n",
    "        while len(self.q1) > 1:\n",
    "            self.q2.append(self.q1.popleft())\n",
    "        popped = self.q1.popleft()\n",
    "\n",
    "        # q1, q2 역할 바꾸기\n",
    "        self.q1, self.q2 = self.q2, self.q1\n",
    "\n",
    "        return popped\n",
    "\n",
    "    def top(self):\n",
    "        # q1의 마지막 하나 빼고 모두 q2로 옮기기\n",
    "        while len(self.q1) > 1:\n",
    "            self.q2.append(self.q1.popleft())\n",
    "        top_elem = self.q1.popleft()\n",
    "        self.q2.append(top_elem)  # 다시 넣어줌\n",
    "\n",
    "        # q1, q2 역할 바꾸기\n",
    "        self.q1, self.q2 = self.q2, self.q1\n",
    "\n",
    "        return top_elem\n",
    "\n",
    "    def isEmpty(self):\n",
    "        return len(self.q1) == 0"
   ]
  },
  {
   "cell_type": "markdown",
   "id": "2735eee4-7666-4d77-b1c9-0f132dab6718",
   "metadata": {},
   "source": [
    "#### 5번"
   ]
  },
  {
   "cell_type": "code",
   "execution_count": null,
   "id": "52fd46c4-8bfd-42f1-9cbb-6d5d49d724ae",
   "metadata": {},
   "outputs": [],
   "source": [
    "class InefficientQueueWithTwoStacks:\n",
    "    def __init__(self):\n",
    "        self.stack1 = []  # 항상 front가 top에 오도록 관리\n",
    "        self.stack2 = []\n",
    "\n",
    "    def enqueue(self, x):\n",
    "        # stack1에 있는 모든 원소를 stack2로 옮긴다\n",
    "        while self.stack1:\n",
    "            self.stack2.append(self.stack1.pop())\n",
    "\n",
    "        # 새 원소를 stack1에 push\n",
    "        self.stack1.append(x)\n",
    "\n",
    "        # stack2에 있는 것들을 다시 stack1으로 옮긴다\n",
    "        while self.stack2:\n",
    "            self.stack1.append(self.stack2.pop())\n",
    "\n",
    "    def dequeue(self):\n",
    "        if not self.stack1:\n",
    "            raise IndexError(\"dequeue from empty queue\")\n",
    "        return self.stack1.pop()  # front가 항상 top에 있음\n",
    "\n",
    "    def front(self):\n",
    "        if not self.stack1:\n",
    "            raise IndexError(\"front from empty queue\")\n",
    "        return self.stack1[-1]\n",
    "\n",
    "    def isEmpty(self):\n",
    "        return not self.stack1"
   ]
  },
  {
   "cell_type": "markdown",
   "id": "444f2243-87f0-4c63-8818-d18aa0685c13",
   "metadata": {},
   "source": [
    "#### 6번"
   ]
  },
  {
   "cell_type": "markdown",
   "id": "55aa0495-2eda-44f0-820e-d3e2702ff07b",
   "metadata": {},
   "source": [
    "enqueue(rear) 연산은 원형 연결 리스트의 맨 뒤(tail)에 새로운 노드를 삽입하는 연산으로,\n",
    "tail 포인터를 사용하면 O(1)의 시간에 수행 가능하다.\n",
    "\n",
    "dequeue(front) 연산은 연결 리스트의 맨 앞(head)에서 원소를 제거하는 연산으로,\n",
    "head 포인터가 존재하거나 dummy head 노드를 활용하면 역시 O(1)의 시간에 수행 가능하다."
   ]
  },
  {
   "cell_type": "markdown",
   "id": "18eca1ab-fd39-4279-9231-3fc06751fca9",
   "metadata": {},
   "source": [
    "#### 7번"
   ]
  },
  {
   "cell_type": "markdown",
   "id": "1e4c57c8-45d3-4e6b-944f-c30455c727f6",
   "metadata": {},
   "source": [
    "enqueue(rear) 연산은 연결 리스트의 맨 뒤에 삽입해야 하므로\n",
    "O(n)의 수행 시간이 걸린다. (tail 포인터가 없기 때문에 끝까지 순회해야 함)\n",
    "\n",
    "반면, dequeue(front) 연산은 연결 리스트의 맨 앞(head 다음)에서 제거하므로\n",
    "O(1)의 수행 시간으로 수행 가능하다."
   ]
  },
  {
   "cell_type": "markdown",
   "id": "417c65f1-3c5f-4ed8-af56-244771990fd4",
   "metadata": {},
   "source": [
    "#### 8번"
   ]
  },
  {
   "cell_type": "code",
   "execution_count": null,
   "id": "c7ddfa8d-157b-4aa1-a3bf-130f9de861d9",
   "metadata": {},
   "outputs": [],
   "source": [
    "class Deque:\n",
    "    def __init__(self):\n",
    "        self.__queue = []\n",
    "\n",
    "    # rear에 삽입\n",
    "    def enqueue(self, x):\n",
    "        self.__queue.append(x)\n",
    "\n",
    "    # front에서 제거\n",
    "    def dequeue(self):\n",
    "        if self.isEmpty():\n",
    "            return None\n",
    "        return self.__queue.pop(0)\n",
    "\n",
    "    # front에 삽입\n",
    "    def enqueue_front(self, x):\n",
    "        self.__queue.insert(0, x)\n",
    "\n",
    "    # rear에서 제거\n",
    "    def dequeue_back(self):\n",
    "        if self.isEmpty():\n",
    "            return None\n",
    "        return self.__queue.pop()\n",
    "\n",
    "    def front(self):\n",
    "        if self.isEmpty():\n",
    "            return None\n",
    "        return self.__queue[0]\n",
    "\n",
    "    def back(self):\n",
    "        if self.isEmpty():\n",
    "            return None\n",
    "        return self.__queue[-1]\n",
    "\n",
    "    def isEmpty(self) -> bool:\n",
    "        return len(self.__queue) == 0\n",
    "\n",
    "    def dequeueAll(self):\n",
    "        self.__queue.clear()\n",
    "\n",
    "    def printDeque(self):\n",
    "        print(\"Deque from front:\", end=' ')\n",
    "        for item in self.__queue:\n",
    "            print(item, end=' ')\n",
    "        print()"
   ]
  }
 ],
 "metadata": {
  "kernelspec": {
   "display_name": "dsweek5",
   "language": "python",
   "name": "ds"
  },
  "language_info": {
   "codemirror_mode": {
    "name": "ipython",
    "version": 3
   },
   "file_extension": ".py",
   "mimetype": "text/x-python",
   "name": "python",
   "nbconvert_exporter": "python",
   "pygments_lexer": "ipython3",
   "version": "3.12.9"
  }
 },
 "nbformat": 4,
 "nbformat_minor": 5
}
