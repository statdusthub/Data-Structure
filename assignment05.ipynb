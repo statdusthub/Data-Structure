{
 "cells": [
  {
   "cell_type": "markdown",
   "id": "854a3c97-5ea5-41c6-bb48-83d946b49fd5",
   "metadata": {},
   "source": [
    "## Birthday.csv"
   ]
  },
  {
   "cell_type": "markdown",
   "id": "e8881f87-58d0-4606-a94e-1f909482459e",
   "metadata": {},
   "source": [
    "* 생일이 느린 10명 이름 출력"
   ]
  },
  {
   "cell_type": "code",
   "execution_count": 17,
   "id": "cfa82d0b-bce7-4862-9e88-ce22834fe803",
   "metadata": {},
   "outputs": [
    {
     "name": "stdout",
     "output_type": "stream",
     "text": [
      "홍서연 20241282\n",
      "신수민 20051230\n",
      "이서영 20051225\n",
      "강민주 20051214\n",
      "김민경 20051202\n",
      "이서영 20051112\n",
      "배시은 20051102\n",
      "김여원 20051031\n",
      "이서진 20051028\n",
      "서홍빈 20051024\n"
     ]
    }
   ],
   "source": [
    "import csv\n",
    "import heapq\n",
    "\n",
    "# CSV 파일 읽기\n",
    "birthday_heap = []\n",
    "with open('/Users/yoon-yeobin/Downloads/birthday.csv', 'r', encoding='utf-8') as file:\n",
    "    reader = csv.DictReader(file)\n",
    "    for row in reader:\n",
    "        heapq.heappush(birthday_heap, (row['생년월일8자리(예.20040101)'], row['이름']))\n",
    "\n",
    "# 생일이 가장 늦은 순으로 10명 출력\n",
    "latest_birthdays = heapq.nlargest(10, birthday_heap)\n",
    "\n",
    "for birthday, name in latest_birthdays:\n",
    "    print(name, birthday)"
   ]
  },
  {
   "cell_type": "code",
   "execution_count": 18,
   "id": "12ba00e9-6328-4462-8c6f-3171ee782597",
   "metadata": {},
   "outputs": [
    {
     "name": "stdout",
     "output_type": "stream",
     "text": [
      "    이름      생년월일\n",
      "0  강윤서  20041108\n",
      "1  김나영  20051005\n",
      "2  김명신  20051002\n",
      "3  김지우  20040722\n",
      "4  신수민  20051230\n",
      "5  윤여빈  20030206\n",
      "6  이예린  20040316\n",
      "7  이지후  20030513\n",
      "8  이희서  20040415\n"
     ]
    }
   ],
   "source": [
    "import pandas as pd\n",
    "\n",
    "# 원형 이중 연결 리스트 노드 클래스\n",
    "class BidirectNode:\n",
    "    def __init__(self, item, prev=None, next=None):\n",
    "        self.item = item\n",
    "        self.prev = prev\n",
    "        self.next = next\n",
    "\n",
    "# 제공된 circularDoublyLinkedList 클래스 사용\n",
    "class CircularDoublyLinkedList:\n",
    "    def __init__(self):\n",
    "        self.__head = BidirectNode(\"dummy\", None, None)\n",
    "        self.__head.prev = self.__head\n",
    "        self.__head.next = self.__head\n",
    "        self.__numItems = 0\n",
    "\n",
    "    def append(self, newItem) -> None:\n",
    "        prev = self.__head.prev\n",
    "        newNode = BidirectNode(newItem, prev, self.__head)\n",
    "        prev.next = newNode\n",
    "        self.__head.prev = newNode\n",
    "        self.__numItems += 1\n",
    "\n",
    "    def printList(self):\n",
    "        result = []\n",
    "        curr = self.__head.next\n",
    "        while curr != self.__head:\n",
    "            result.append(curr.item)\n",
    "            curr = curr.next\n",
    "        return result\n",
    "\n",
    "# 데이터 로드\n",
    "birthday_data = pd.read_csv('/Users/yoon-yeobin/Downloads/birthday.csv').dropna()\n",
    "\n",
    "# 지정된 팀원 이름 목록\n",
    "team_members = [\"김지우\", \"이희서\", \"이예린\", \"이지후\", \"강윤서\", \"김나영\", \"김명신\", \"신수민\", \"윤여빈\"]\n",
    "\n",
    "# 리스트 생성 및 데이터 추가\n",
    "team_list = CircularDoublyLinkedList()\n",
    "\n",
    "# 팀원의 생일 데이터를 리스트에 추가\n",
    "for _, row in birthday_data.iterrows():\n",
    "    if row['이름'] in team_members:\n",
    "        birthday = str(int(row['생년월일8자리(예.20040101)']))\n",
    "        team_list.append((row['이름'], birthday))\n",
    "\n",
    "# 저장된 데이터 출력\n",
    "team_birthdays = team_list.printList()\n",
    "\n",
    "# 데이터프레임 형태로 출력\n",
    "team_birthdays_df = pd.DataFrame(team_birthdays, columns=['이름', '생년월일'])\n",
    "print(team_birthdays_df)"
   ]
  },
  {
   "cell_type": "markdown",
   "id": "ccac62d5-452b-4934-91ed-27842368c0d8",
   "metadata": {},
   "source": [
    "## 교재 연습문제"
   ]
  },
  {
   "cell_type": "markdown",
   "id": "ba0f497e-f6f7-4e88-ac04-43afb51772c4",
   "metadata": {},
   "source": [
    "#### 1번\n",
    "\n",
    "- 최대 힙에서는 항상 가장 큰 값이 루트에 있으므로, 루트보다 더 깊은 위치에 더 큰 값이 존재할 수 없다. 이는 부모 노드가 자식노드보다 크다는 성질에 어긋나는 것이다."
   ]
  },
  {
   "cell_type": "markdown",
   "id": "94aadc85-6ed0-4aec-938d-af8d57e4e8ff",
   "metadata": {},
   "source": [
    "#### 2번\n",
    "\n",
    "- 최대 힙은 정렬된 구조가 아니므로, 마지막 원소 A[n-1]이 가장 작다는 보장은 없다."
   ]
  },
  {
   "cell_type": "markdown",
   "id": "36df8cd1-00d5-4229-8132-2ce582b5a456",
   "metadata": {},
   "source": [
    "#### 3번\n",
    "\n",
    "- n/2개"
   ]
  },
  {
   "cell_type": "markdown",
   "id": "e362056b-9254-4db4-bb7f-2e84e7a2f4ce",
   "metadata": {},
   "source": [
    "#### 4번\n",
    "\n",
    "- Θ(log n)"
   ]
  },
  {
   "cell_type": "markdown",
   "id": "f3a62007-5c3f-4911-b091-b74d40b93b0c",
   "metadata": {},
   "source": [
    "#### 5번\n",
    "\n",
    "- 간단한 작업이다. 힙 구조상 마지막 원소는 배열의 끝에 있어, 삭제에 추가 작업이 필요하지 않다."
   ]
  },
  {
   "cell_type": "markdown",
   "id": "1032c285-186a-43ba-b3f9-f32b915f5504",
   "metadata": {},
   "source": [
    "#### 6번\n",
    "\n",
    "- 스며올리기를 반복해도 힙은 만들어지지만, 시간복잡도는 O(n log n)으로 더 느리다.\n",
    "반면 아래에서 스며내리기를 하면 O(n)으로 더 효율적이다."
   ]
  },
  {
   "cell_type": "markdown",
   "id": "431a2a6c-ebd1-4c99-9327-106811a3e2a8",
   "metadata": {},
   "source": [
    "#### 7번\n",
    "\n",
    "- 해당 원소에 대해 부모와 값을 비교하면서, 더 크면 부모와 교환을 반복한다.\n",
    "이 과정을 루트까지 반복하면 힙 특성을 복원할 수 있으며, 시간은 Θ(log n)이다."
   ]
  },
  {
   "cell_type": "markdown",
   "id": "067c6121-60aa-4e09-8b76-acbefed7adc4",
   "metadata": {},
   "source": [
    "## LeetCode"
   ]
  },
  {
   "cell_type": "code",
   "execution_count": 12,
   "id": "629ea786-fdf9-4b35-ad4a-892562c595aa",
   "metadata": {},
   "outputs": [],
   "source": [
    "import heapq\n",
    "\n",
    "class KthLargest:\n",
    "\n",
    "    def __init__(self, k: int, nums: list[int]):\n",
    "        self.k = k\n",
    "        self.min_heap = nums\n",
    "        heapq.heapify(self.min_heap)\n",
    "\n",
    "        # 가장 큰 k개만 남기기 위해 나머지 제거\n",
    "        while len(self.min_heap) > k:\n",
    "            heapq.heappop(self.min_heap)\n",
    "\n",
    "    def add(self, val: int) -> int:\n",
    "        heapq.heappush(self.min_heap, val)\n",
    "        if len(self.min_heap) > self.k:\n",
    "            heapq.heappop(self.min_heap)\n",
    "        return self.min_heap[0]"
   ]
  }
 ],
 "metadata": {
  "kernelspec": {
   "display_name": "dsweek5",
   "language": "python",
   "name": "ds"
  },
  "language_info": {
   "codemirror_mode": {
    "name": "ipython",
    "version": 3
   },
   "file_extension": ".py",
   "mimetype": "text/x-python",
   "name": "python",
   "nbconvert_exporter": "python",
   "pygments_lexer": "ipython3",
   "version": "3.12.9"
  }
 },
 "nbformat": 4,
 "nbformat_minor": 5
}
